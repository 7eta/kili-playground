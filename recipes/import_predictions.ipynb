{
 "cells": [
  {
   "cell_type": "markdown",
   "metadata": {},
   "source": [
    "# Kili Tutorial: Importing predictions\n",
    "In this tutorial, we will show how to import predictions (pre-annotations) into Kili in order to help annotators and accelerate the whole annotation process. The goal of this tutorial is to illustrate some basic components and concepts of Kili in a simple way, but also to dive into the actual process of iteratively developing real applications in Kili.\n",
    "\n",
    "Additionally:\n",
    "\n",
    "For an overview of Kili, visit kili-technology.com You can also check out the Kili documentation https://kili-technology.github.io/kili-docs. Our goal is to export labels that can predict whether an image contains a Porsche or a Tesla.\n",
    "\n",
    "The tutorial is divided into four parts:\n",
    "\n",
    "1. Understanding the different types of labels\n",
    "2. Understanding the data model of a label\n",
    "3. Pushing predictions to Kili\n",
    "4. Visualizing predictions in Kili\n",
    "\n",
    "## 1. Understanding the different types of labels\n",
    "A label is the annotation or combination of all annotations created on an asset. For example, all houses identified on the satellite image, or all the information annotated text on the document.\n",
    "\n",
    "There are three categories of labels:\n",
    "\n",
    "- **default**: an ordinary label, made by an annotator\n",
    "- **prediction**: a pre-annotation, made by a model\n",
    "- **review**: a check, carried out by a reviewer\n",
    "\n",
    "When you export data (see [How to export labels](https://github.com/kili-technology/kili-playground/blob/master/recipes/export_labels.ipynb)), you can find out which category a label belongs to by looking at the field `labelType`. It can take the following values: `PREDICTION`, `DEFAULT`, `REVIEW`.\n",
    "\n",
    "## 2. Understanding the data model of a label\n",
    "Predictions under push in Kili in the form of python dictionaries. The format of the dictionary to be pushed depends on the type of data (text, image, audio), the machine learning task(s) the project is about (e.g. simple, multiple classification, transcription, named entity recognition, object detection, etc.) and their order. In summary, it depends on the JSON format that describes the interface of your annotation project.\n",
    "\n",
    "The following cell shows you how to view this JSON. You need to update the credentials `email`, `password` and `project_id` before."
   ]
  },
  {
   "cell_type": "code",
   "execution_count": null,
   "metadata": {},
   "outputs": [],
   "source": [
    "!pip install kili\n",
    "from kili.authentication import KiliAuth\n",
    "from kili.playground import Playground\n",
    "\n",
    "email = 'YOUR EMAIL'\n",
    "password = 'YOUR PASSWORD'\n",
    "project_id = 'YOUR PROJECT ID'\n",
    "\n",
    "kauth = KiliAuth(email=email, password=password)\n",
    "playground = Playground(kauth)\n",
    "\n",
    "tools = playground.get_tools(project_id=project_id)\n",
    "assert len(tools) == 1\n",
    "tool = tools[0]\n",
    "print(tool['jsonSettings'])"
   ]
  },
  {
   "cell_type": "markdown",
   "metadata": {},
   "source": [
    "In the same way, we will visualize the data model of a label. To do this, make sure you have labeled at least one asset in Kili.\n",
    "\n",
    "The following cell allows you to retrieve the first label in encounters."
   ]
  },
  {
   "cell_type": "code",
   "execution_count": null,
   "metadata": {},
   "outputs": [],
   "source": [
    "assets = playground.get_assets(project_id=project_id)\n",
    "\n",
    "for asset in assets:\n",
    "    labels = asset['labels']\n",
    "    if not labels or len(labels) == 0:\n",
    "        continue\n",
    "    label = labels[0]\n",
    "    print(label)\n",
    "    break"
   ]
  },
  {
   "cell_type": "markdown",
   "metadata": {},
   "source": [
    "Taking the example of text classification task, here are the fields you will see:\n",
    "\n",
    "- `createdAt`: Date of creation of the Label.\n",
    "- `id`: Unique identifier of the Label in the Kili database.\n",
    "- `jsonResponse`: List of label annotations. See detail lower.\n",
    " - `JOB_ID_1`: First annotation task, as defined in the interface builder.\n",
    "  - `categories`: Category the Asset (text) belongs to.\n",
    "   - `name`: Name of the category.\n",
    "   - `confidence`: Category Confidence Index. The value is between 0 and 100 for a PREDICTION type Label (produced by a model). The value is always 100 for a Label created by a human.\n",
    "- `labelType`: Type of label used to identify if the label is a prediction (made by a model), an ordinary label (made by an annotator) or a journal (carried out by a reviewer). Can take the following values PREDICTION, DEFAULT, REVIEW.\n",
    "- `secondsToLabel`: Time spent creating this Label.\n",
    "- `totalSecondsToLabel`: Time spent creating Labels for this Asset, all Labels combined.\n",
    "\n",
    "For other types of tasks the fields will be the same except for the `jsonResponse` for which we follow more or less the data model of the Google APIs.\n",
    "\n",
    "## 3. Pushing predictions to Kili\n",
    "To make a prediction in Kili, you need 4 pieces of information:\n",
    "\n",
    "- A project ID\n",
    "- An external asset ID\n",
    "- A model name (arbitrary)\n",
    "- A jsonResponse, in the same format as the labels `jsonResponse` (see above)\n",
    "\n",
    "This cell imports a prediction to the asset whose label we just saw."
   ]
  },
  {
   "cell_type": "code",
   "execution_count": null,
   "metadata": {},
   "outputs": [],
   "source": [
    "externalId = asset['externalId']\n",
    "model_name = 'v0.0.1'\n",
    "json_response = label['jsonResponse']\n",
    "\n",
    "playground.create_predictions(\n",
    "    project_id=project_id,\n",
    "    external_id_array=[externalId],\n",
    "    model_name_array=[model_name],\n",
    "    json_response_array=[json_response])"
   ]
  },
  {
   "cell_type": "markdown",
   "metadata": {},
   "source": [
    "\n",
    "## 4. Visualizing predictions in Kili\n",
    "To verify that the prediction in question was indeed pushed in Kili, you can go to https://cloud.kili-technology.com/label/projects/[PROJECT_ID]/dataset/labels?currentPage=1&pageSize=50. You should get a new `PREDICTION` line like this:\n",
    "\n",
    "![update settings](img/import_predictions - visualize prediction.png)\n",
    "\n",
    "## Summary\n",
    "In this tutorial, we accomplished the following:\n",
    "\n",
    "We introduced the concept of Kili interface settings and the 3 different kind of labels (`DEFAULT`, `PREDICTION`, `REVIEW`). We demonstrated how to retrieve a `DEFAULT` label and how to create a `PREDICTION` label. If you enjoyed this tutorial, check out the other Recipes for other tutorials that you may find interesting, including demonstrations of how to use Kili.\n",
    "\n",
    "You can also visit the Kili website or Kili documentation for more info!\n",
    "\n"
   ]
  }
 ],
 "metadata": {
  "kernelspec": {
   "display_name": "Python 3",
   "language": "python",
   "name": "python3"
  },
  "language_info": {
   "codemirror_mode": {
    "name": "ipython",
    "version": 3
   },
   "file_extension": ".py",
   "mimetype": "text/x-python",
   "name": "python",
   "nbconvert_exporter": "python",
   "pygments_lexer": "ipython3",
   "version": "3.7.3"
  }
 },
 "nbformat": 4,
 "nbformat_minor": 2
}
