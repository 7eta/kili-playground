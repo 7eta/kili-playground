{
 "cells": [
  {
   "cell_type": "markdown",
   "metadata": {},
   "source": [
    "# Kili Tutorial: Importing assets\n",
    "\n",
    "In this tutorial, we will walk through the process of using Kili to import assets. The goal of this tutorial is to illustrate some basic components and concepts of Kili in a simple way.\n",
    "\n",
    "Additionally:\n",
    "\n",
    "For an overview of Kili, visit kili-technology.com\n",
    "You can also check out the Kili documentation https://kili-technology.github.io/kili-docs.\n",
    "\n",
    "The tutorial is divided into four parts:\n",
    "\n",
    "1. Importing assets\n",
    "2. Setting up a labeling priority\n",
    "3. Setting up who can label the asset\n",
    "\n",
    "This next cell connect the notebook to the Kili API. You need to update the credentials `email`, `password` and `project_id` before."
   ]
  },
  {
   "cell_type": "code",
   "execution_count": null,
   "metadata": {},
   "outputs": [],
   "source": [
    "!pip install kili\n",
    "from kili.authentication import KiliAuth\n",
    "from kili.playground import Playground\n",
    "\n",
    "email = 'YOUR EMAIL'\n",
    "password = 'YOUR PASSWORD'\n",
    "project_id = 'YOUR PROJECT ID'\n",
    "\n",
    "kauth = KiliAuth(email=email, password=password)\n",
    "playground = Playground(kauth)"
   ]
  },
  {
   "cell_type": "markdown",
   "metadata": {},
   "source": [
    "## Importing assets\n",
    "\n",
    "An Asset is the smallest piece of information we want to label. It can be: a text, an image, a sound, etc...\n",
    "\n",
    "To insert an asset in Kili, you need two essential pieces of information:\n",
    "\n",
    "- The content of the asset (i.e. the text for a text document, or an url that points to the document, or the path to the image file on the hard drive).\n",
    "- The name of the asset in Kili to be able to recognize it once inserted: `externalId`. This name must be unique within the same project.\n",
    "\n",
    "It is also possible to associate meta information to certain assets that can be displayed in certain interfaces. We will not go into these details in this tutorial.\n",
    "\n",
    "The cell below inserts three image files: two are in the form of image urls and one is in the form of a file on the hard drive. **Warning, before running this snippet, make sure you have an `example.jpg` file in your Downloads folder.**"
   ]
  },
  {
   "cell_type": "code",
   "execution_count": null,
   "metadata": {},
   "outputs": [],
   "source": [
    "from tqdm import tqdm\n",
    "\n",
    "CHUNK_SIZE = 100\n",
    "\n",
    "def chunks(l, n):\n",
    "    \"\"\"Yield successive n-sized chunks from l.\"\"\"\n",
    "    for i in range(0, len(l), n):\n",
    "        yield l[i:i + n]\n",
    "\n",
    "\n",
    "assets = [\n",
    "    {\n",
    "        'externalId': 'example 1',\n",
    "        'content': 'https://images.caradisiac.com/logos/3/8/6/7/253867/S0-tesla-enregistre-d-importantes-pertes-au-premier-trimestre-175948.jpg',\n",
    "        'metadata': {},\n",
    "        'toBeLabeledBy':['jean.dupont@example.com']\n",
    "    },\n",
    "    {\n",
    "        'externalId': 'example 2',\n",
    "        'content': 'https://img.sportauto.fr/news/2018/11/28/1533574/1920%7C1280%7Cc096243e5460db3e5e70c773.jpg',\n",
    "        'metadata': {},\n",
    "        'priority': 1\n",
    "    },\n",
    "    {\n",
    "        'externalId': 'example 3',\n",
    "        'content': os.path.join(os.getenv('HOME'), 'Downloads', 'example.jpg'),\n",
    "        'metadata': {},\n",
    "    },\n",
    "]\n",
    "\n",
    "\n",
    "for asset_chunk in tqdm(list(chunks(assets, CHUNK_SIZE))):\n",
    "    external_id_array = [a.get('externalId') for a in asset_chunk]\n",
    "    content_array = [a.get('content') for a in asset_chunk]\n",
    "    json_metadata_array = [json.loads(a.get('metadata')) for a in asset_chunk]\n",
    "    playground.append_many_to_dataset(project_id=project_id, \n",
    "                                      content_array=content_array,\n",
    "                                      external_id_array=external_id_array, \n",
    "                                      json_metadata_array=json_metadata_array)"
   ]
  },
  {
   "cell_type": "markdown",
   "metadata": {},
   "source": [
    "## Setting up a labeling priority\n",
    "In Kili, by default, the order in which the assets are labeled is the order in which they are inserted in Kili.\n",
    "\n",
    "It is possible to change this order at any time, for example for active learning. To put an asset at the beginning of the stack, just change its `priority` property, which by default is 0, to a higher value. The higher the `priority` property, the higher the priority of the asset.\n",
    "\n",
    "The cell below will put the asset `example 2` at the top of the stack."
   ]
  },
  {
   "cell_type": "code",
   "execution_count": null,
   "metadata": {},
   "outputs": [],
   "source": [
    "for asset in assets:\n",
    "    if 'priority' not in asset:\n",
    "        continue\n",
    "    playground.update_properties_in_asset(asset_id=asset.get('externalId'), \n",
    "                                          priority=asset.get('priority'))"
   ]
  },
  {
   "cell_type": "markdown",
   "metadata": {},
   "source": [
    "## Setting up who can label the asset\n",
    "In some cases we also want to be able to choose who among the annotators will label the assets. To do this, simply pass to the asset the list of emails from the annotators in question with the `toBeLabeledBy` property.\n",
    "\n",
    "The cell below will allow asset `example 1` to be only seen by jean.dupont@example.com."
   ]
  },
  {
   "cell_type": "code",
   "execution_count": null,
   "metadata": {},
   "outputs": [],
   "source": [
    "for asset in assets:\n",
    "    if 'toBeLabeledBy' not in asset:\n",
    "        continue\n",
    "    playground.update_properties_in_asset(asset_id=asset.get('externalId'), \n",
    "                                          to_be_labeled_by=asset.get('toBeLabeledBy'))"
   ]
  },
  {
   "cell_type": "markdown",
   "metadata": {},
   "source": [
    "In this tutorial, we accomplished the following:\n",
    "\n",
    "We introduced the concept of Kili asset content and asset external ID. We demonstrated how to append an asset to a project with the API.\n",
    "We showed that an an asset can have a priority and a list a labelers.\n",
    "If you enjoyed this tutorial, check out the other Recipes for other tutorials that you may find interesting, including demonstrations of how to use Kili.\n",
    "\n",
    "You can also visit the [Kili website](https://kili-technology.com) or [Kili documentation](https://kili-technology.github.io/kili-docs) for more info!"
   ]
  }
 ],
 "metadata": {
  "kernelspec": {
   "display_name": "Python 3",
   "language": "python",
   "name": "python3"
  },
  "language_info": {
   "codemirror_mode": {
    "name": "ipython",
    "version": 3
   },
   "file_extension": ".py",
   "mimetype": "text/x-python",
   "name": "python",
   "nbconvert_exporter": "python",
   "pygments_lexer": "ipython3",
   "version": "3.7.3"
  }
 },
 "nbformat": 4,
 "nbformat_minor": 2
}
