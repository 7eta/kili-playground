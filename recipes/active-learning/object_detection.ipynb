{
 "cells": [
  {
   "cell_type": "markdown",
   "metadata": {
    "colab_type": "text",
    "id": "4Cl_cnU113zs"
   },
   "source": [
    "# Active learning using kili-technology"
   ]
  },
  {
   "cell_type": "markdown",
   "metadata": {
    "colab_type": "text",
    "id": "bRne99kG13zw"
   },
   "source": [
    "In this tutorial, we will see how you can use an active learning framework in conjunction with kili-technology to increase your productivity. \n",
    "\n",
    "It is no secret that machine learning models, especially deep learning models, need lots of training data. In the real world, unsupervised data is plenty while supervised data is rare and costly to obtain. Thus, you may be interested in using active learning : it is the task of choosing well the data samples to annotate to get the best performance given a fixed number of annotations.\n",
    "\n",
    "At kili-technology, we develop the best annotation platform, to quickly get a production ready dataset. One of the features of our python - graphQL API is the ability to order the data samples to annotate, by giving them priority. This allows the use of active learning algorithms. We will show you how to do that here :"
   ]
  },
  {
   "cell_type": "markdown",
   "metadata": {
    "colab_type": "text",
    "id": "ykaXeH0N13zx"
   },
   "source": [
    "## Creating the project"
   ]
  },
  {
   "cell_type": "code",
   "execution_count": 1,
   "metadata": {},
   "outputs": [
    {
     "name": "stdout",
     "output_type": "stream",
     "text": [
      "Cloning into 'SSD'...\n",
      "remote: Enumerating objects: 62, done.\u001b[K\n",
      "remote: Counting objects: 100% (62/62), done.\u001b[K\n",
      "remote: Compressing objects: 100% (49/49), done.\u001b[K\n",
      "remote: Total 869 (delta 13), reused 43 (delta 11), pack-reused 807\u001b[K\n",
      "Receiving objects: 100% (869/869), 796.79 KiB | 2.14 MiB/s, done.\n",
      "Resolving deltas: 100% (463/463), done.\n"
     ]
    }
   ],
   "source": [
    "!git clone https://github.com/mDuval1/SSD"
   ]
  },
  {
   "cell_type": "code",
   "execution_count": 13,
   "metadata": {},
   "outputs": [],
   "source": [
    "import glob\n",
    "import pandas as pd"
   ]
  },
  {
   "cell_type": "code",
   "execution_count": 7,
   "metadata": {},
   "outputs": [],
   "source": [
    "data_models = glob.glob('SSD/outputs/*')"
   ]
  },
  {
   "cell_type": "code",
   "execution_count": 18,
   "metadata": {},
   "outputs": [],
   "source": [
    "list_df = []\n",
    "for data_model in data_models:\n",
    "    model_results = glob.glob(f'{data_model}/results/*')\n",
    "    for model_result in model_results:\n",
    "        df_model = pd.read_csv(model_result)\n",
    "        df_model['model'] = model_result.split('/')[-1]\n",
    "        df_model['data'] = data_model.split('/')[-1]\n",
    "        list_df.append(df_model)"
   ]
  },
  {
   "cell_type": "code",
   "execution_count": 22,
   "metadata": {},
   "outputs": [],
   "source": [
    "df = pd.concat(list_df).reset_index()"
   ]
  },
  {
   "cell_type": "code",
   "execution_count": 23,
   "metadata": {},
   "outputs": [
    {
     "data": {
      "text/html": [
       "<div>\n",
       "<style scoped>\n",
       "    .dataframe tbody tr th:only-of-type {\n",
       "        vertical-align: middle;\n",
       "    }\n",
       "\n",
       "    .dataframe tbody tr th {\n",
       "        vertical-align: top;\n",
       "    }\n",
       "\n",
       "    .dataframe thead th {\n",
       "        text-align: right;\n",
       "    }\n",
       "</style>\n",
       "<table border=\"1\" class=\"dataframe\">\n",
       "  <thead>\n",
       "    <tr style=\"text-align: right;\">\n",
       "      <th></th>\n",
       "      <th>index</th>\n",
       "      <th>strategy</th>\n",
       "      <th>args</th>\n",
       "      <th>step</th>\n",
       "      <th>mAP</th>\n",
       "      <th>model</th>\n",
       "      <th>data</th>\n",
       "    </tr>\n",
       "  </thead>\n",
       "  <tbody>\n",
       "    <tr>\n",
       "      <th>0</th>\n",
       "      <td>0</td>\n",
       "      <td>uncertainty_aldod_sampling</td>\n",
       "      <td>{}</td>\n",
       "      <td>1</td>\n",
       "      <td>0.194674</td>\n",
       "      <td>uncertainty_aldod_sampling-20200621151902.txt</td>\n",
       "      <td>mobilenet_v2_ssd320_voc0712</td>\n",
       "    </tr>\n",
       "    <tr>\n",
       "      <th>1</th>\n",
       "      <td>0</td>\n",
       "      <td>random_sampling</td>\n",
       "      <td>{}</td>\n",
       "      <td>1</td>\n",
       "      <td>0.192371</td>\n",
       "      <td>random_sampling-20200621151902.txt</td>\n",
       "      <td>mobilenet_v2_ssd320_voc0712</td>\n",
       "    </tr>\n",
       "  </tbody>\n",
       "</table>\n",
       "</div>"
      ],
      "text/plain": [
       "   index                    strategy args step       mAP  \\\n",
       "0      0  uncertainty_aldod_sampling   {}    1  0.194674   \n",
       "1      0             random_sampling   {}    1  0.192371   \n",
       "\n",
       "                                           model                         data  \n",
       "0  uncertainty_aldod_sampling-20200621151902.txt  mobilenet_v2_ssd320_voc0712  \n",
       "1             random_sampling-20200621151902.txt  mobilenet_v2_ssd320_voc0712  "
      ]
     },
     "execution_count": 23,
     "metadata": {},
     "output_type": "execute_result"
    }
   ],
   "source": [
    "df"
   ]
  },
  {
   "cell_type": "code",
   "execution_count": null,
   "metadata": {},
   "outputs": [],
   "source": []
  }
 ],
 "metadata": {
  "kernelspec": {
   "display_name": "Python 3",
   "language": "python",
   "name": "python3"
  },
  "language_info": {
   "codemirror_mode": {
    "name": "ipython",
    "version": 3
   },
   "file_extension": ".py",
   "mimetype": "text/x-python",
   "name": "python",
   "nbconvert_exporter": "python",
   "pygments_lexer": "ipython3",
   "version": "3.7.6"
  }
 },
 "nbformat": 4,
 "nbformat_minor": 4
}
