{
 "cells": [
  {
   "cell_type": "markdown",
   "metadata": {
    "colab_type": "text",
    "id": "4Cl_cnU113zs"
   },
   "source": [
    "# Active learning using kili-technology"
   ]
  },
  {
   "cell_type": "markdown",
   "metadata": {
    "colab_type": "text",
    "id": "bRne99kG13zw"
   },
   "source": [
    "In this tutorial, we will see results of active learning applied to object detection.\n",
    "\n",
    "It is no secret that machine learning models, especially deep learning models, need lots of training data. In the real world, unsupervised data is plenty while supervised data is rare and costly to obtain. Thus, you may be interested in using active learning : it is the task of choosing well the data samples to annotate to get the best performance given a fixed number of annotations.\n",
    "\n",
    "At kili-technology, we develop the best annotation platform, to quickly get a production ready dataset. One of the features of our python - graphQL API is the ability to order the data samples to annotate, by giving them priority. This allows the use of active learning algorithms. We will show you how to do that here :"
   ]
  },
  {
   "cell_type": "markdown",
   "metadata": {
    "colab_type": "text",
    "id": "ykaXeH0N13zx"
   },
   "source": [
    "## Creating the project"
   ]
  },
  {
   "cell_type": "code",
   "execution_count": 7,
   "metadata": {},
   "outputs": [
    {
     "name": "stdout",
     "output_type": "stream",
     "text": [
      "Cloning into 'SSD'...\n",
      "remote: Enumerating objects: 71, done.\u001b[K\n",
      "remote: Counting objects: 100% (71/71), done.\u001b[K\n",
      "remote: Compressing objects: 100% (54/54), done.\u001b[K\n",
      "remote: Total 878 (delta 19), reused 50 (delta 15), pack-reused 807\u001b[K\n",
      "Receiving objects: 100% (878/878), 797.58 KiB | 1.71 MiB/s, done.\n",
      "Resolving deltas: 100% (469/469), done.\n"
     ]
    }
   ],
   "source": [
    "!git clone https://github.com/mDuval1/SSD"
   ]
  },
  {
   "cell_type": "code",
   "execution_count": 22,
   "metadata": {},
   "outputs": [],
   "source": [
    "import glob\n",
    "import pandas as pd\n",
    "import matplotlib.pyplot as plt\n",
    "import seaborn as sns"
   ]
  },
  {
   "cell_type": "code",
   "execution_count": 9,
   "metadata": {},
   "outputs": [],
   "source": [
    "data_models = glob.glob('SSD/outputs/*')"
   ]
  },
  {
   "cell_type": "code",
   "execution_count": 10,
   "metadata": {},
   "outputs": [],
   "source": [
    "list_df = []\n",
    "for data_model in data_models:\n",
    "    model_results = glob.glob(f'{data_model}/results/*')\n",
    "    for model_result in model_results:\n",
    "        df_model = pd.read_csv(model_result)\n",
    "        df_model['model'] = model_result.split('/')[-1]\n",
    "        df_model['data'] = data_model.split('/')[-1]\n",
    "        list_df.append(df_model)"
   ]
  },
  {
   "cell_type": "code",
   "execution_count": 11,
   "metadata": {},
   "outputs": [],
   "source": [
    "df = pd.concat(list_df).reset_index()"
   ]
  },
  {
   "cell_type": "code",
   "execution_count": 12,
   "metadata": {
    "scrolled": true
   },
   "outputs": [
    {
     "data": {
      "text/html": [
       "<div>\n",
       "<style scoped>\n",
       "    .dataframe tbody tr th:only-of-type {\n",
       "        vertical-align: middle;\n",
       "    }\n",
       "\n",
       "    .dataframe tbody tr th {\n",
       "        vertical-align: top;\n",
       "    }\n",
       "\n",
       "    .dataframe thead th {\n",
       "        text-align: right;\n",
       "    }\n",
       "</style>\n",
       "<table border=\"1\" class=\"dataframe\">\n",
       "  <thead>\n",
       "    <tr style=\"text-align: right;\">\n",
       "      <th></th>\n",
       "      <th>index</th>\n",
       "      <th>strategy</th>\n",
       "      <th>args</th>\n",
       "      <th>step</th>\n",
       "      <th>mAP</th>\n",
       "      <th>model</th>\n",
       "      <th>data</th>\n",
       "    </tr>\n",
       "  </thead>\n",
       "  <tbody>\n",
       "    <tr>\n",
       "      <th>0</th>\n",
       "      <td>0</td>\n",
       "      <td>uncertainty_aldod_sampling</td>\n",
       "      <td>{}</td>\n",
       "      <td>1</td>\n",
       "      <td>0.194674</td>\n",
       "      <td>uncertainty_aldod_sampling-20200621151902.txt</td>\n",
       "      <td>mobilenet_v2_ssd320_voc0712</td>\n",
       "    </tr>\n",
       "    <tr>\n",
       "      <th>1</th>\n",
       "      <td>1</td>\n",
       "      <td>uncertainty_aldod_sampling</td>\n",
       "      <td>{}</td>\n",
       "      <td>2</td>\n",
       "      <td>0.258754</td>\n",
       "      <td>uncertainty_aldod_sampling-20200621151902.txt</td>\n",
       "      <td>mobilenet_v2_ssd320_voc0712</td>\n",
       "    </tr>\n",
       "    <tr>\n",
       "      <th>2</th>\n",
       "      <td>2</td>\n",
       "      <td>uncertainty_aldod_sampling</td>\n",
       "      <td>{}</td>\n",
       "      <td>3</td>\n",
       "      <td>0.306085</td>\n",
       "      <td>uncertainty_aldod_sampling-20200621151902.txt</td>\n",
       "      <td>mobilenet_v2_ssd320_voc0712</td>\n",
       "    </tr>\n",
       "    <tr>\n",
       "      <th>3</th>\n",
       "      <td>3</td>\n",
       "      <td>uncertainty_aldod_sampling</td>\n",
       "      <td>{}</td>\n",
       "      <td>4</td>\n",
       "      <td>0.333593</td>\n",
       "      <td>uncertainty_aldod_sampling-20200621151902.txt</td>\n",
       "      <td>mobilenet_v2_ssd320_voc0712</td>\n",
       "    </tr>\n",
       "    <tr>\n",
       "      <th>4</th>\n",
       "      <td>4</td>\n",
       "      <td>uncertainty_aldod_sampling</td>\n",
       "      <td>{}</td>\n",
       "      <td>5</td>\n",
       "      <td>0.368577</td>\n",
       "      <td>uncertainty_aldod_sampling-20200621151902.txt</td>\n",
       "      <td>mobilenet_v2_ssd320_voc0712</td>\n",
       "    </tr>\n",
       "    <tr>\n",
       "      <th>5</th>\n",
       "      <td>5</td>\n",
       "      <td>uncertainty_aldod_sampling</td>\n",
       "      <td>{}</td>\n",
       "      <td>6</td>\n",
       "      <td>0.392480</td>\n",
       "      <td>uncertainty_aldod_sampling-20200621151902.txt</td>\n",
       "      <td>mobilenet_v2_ssd320_voc0712</td>\n",
       "    </tr>\n",
       "    <tr>\n",
       "      <th>6</th>\n",
       "      <td>0</td>\n",
       "      <td>random_sampling</td>\n",
       "      <td>{}</td>\n",
       "      <td>1</td>\n",
       "      <td>0.192371</td>\n",
       "      <td>random_sampling-20200621151902.txt</td>\n",
       "      <td>mobilenet_v2_ssd320_voc0712</td>\n",
       "    </tr>\n",
       "    <tr>\n",
       "      <th>7</th>\n",
       "      <td>1</td>\n",
       "      <td>random_sampling</td>\n",
       "      <td>{}</td>\n",
       "      <td>2</td>\n",
       "      <td>0.252794</td>\n",
       "      <td>random_sampling-20200621151902.txt</td>\n",
       "      <td>mobilenet_v2_ssd320_voc0712</td>\n",
       "    </tr>\n",
       "    <tr>\n",
       "      <th>8</th>\n",
       "      <td>2</td>\n",
       "      <td>random_sampling</td>\n",
       "      <td>{}</td>\n",
       "      <td>3</td>\n",
       "      <td>0.306718</td>\n",
       "      <td>random_sampling-20200621151902.txt</td>\n",
       "      <td>mobilenet_v2_ssd320_voc0712</td>\n",
       "    </tr>\n",
       "    <tr>\n",
       "      <th>9</th>\n",
       "      <td>3</td>\n",
       "      <td>random_sampling</td>\n",
       "      <td>{}</td>\n",
       "      <td>4</td>\n",
       "      <td>0.326186</td>\n",
       "      <td>random_sampling-20200621151902.txt</td>\n",
       "      <td>mobilenet_v2_ssd320_voc0712</td>\n",
       "    </tr>\n",
       "    <tr>\n",
       "      <th>10</th>\n",
       "      <td>4</td>\n",
       "      <td>random_sampling</td>\n",
       "      <td>{}</td>\n",
       "      <td>5</td>\n",
       "      <td>0.363452</td>\n",
       "      <td>random_sampling-20200621151902.txt</td>\n",
       "      <td>mobilenet_v2_ssd320_voc0712</td>\n",
       "    </tr>\n",
       "    <tr>\n",
       "      <th>11</th>\n",
       "      <td>5</td>\n",
       "      <td>random_sampling</td>\n",
       "      <td>{}</td>\n",
       "      <td>6</td>\n",
       "      <td>0.371271</td>\n",
       "      <td>random_sampling-20200621151902.txt</td>\n",
       "      <td>mobilenet_v2_ssd320_voc0712</td>\n",
       "    </tr>\n",
       "    <tr>\n",
       "      <th>12</th>\n",
       "      <td>6</td>\n",
       "      <td>random_sampling</td>\n",
       "      <td>{}</td>\n",
       "      <td>7</td>\n",
       "      <td>0.388970</td>\n",
       "      <td>random_sampling-20200621151902.txt</td>\n",
       "      <td>mobilenet_v2_ssd320_voc0712</td>\n",
       "    </tr>\n",
       "    <tr>\n",
       "      <th>13</th>\n",
       "      <td>7</td>\n",
       "      <td>random_sampling</td>\n",
       "      <td>{}</td>\n",
       "      <td>8</td>\n",
       "      <td>0.412950</td>\n",
       "      <td>random_sampling-20200621151902.txt</td>\n",
       "      <td>mobilenet_v2_ssd320_voc0712</td>\n",
       "    </tr>\n",
       "  </tbody>\n",
       "</table>\n",
       "</div>"
      ],
      "text/plain": [
       "    index                    strategy args step       mAP  \\\n",
       "0       0  uncertainty_aldod_sampling   {}    1  0.194674   \n",
       "1       1  uncertainty_aldod_sampling   {}    2  0.258754   \n",
       "2       2  uncertainty_aldod_sampling   {}    3  0.306085   \n",
       "3       3  uncertainty_aldod_sampling   {}    4  0.333593   \n",
       "4       4  uncertainty_aldod_sampling   {}    5  0.368577   \n",
       "5       5  uncertainty_aldod_sampling   {}    6  0.392480   \n",
       "6       0             random_sampling   {}    1  0.192371   \n",
       "7       1             random_sampling   {}    2  0.252794   \n",
       "8       2             random_sampling   {}    3  0.306718   \n",
       "9       3             random_sampling   {}    4  0.326186   \n",
       "10      4             random_sampling   {}    5  0.363452   \n",
       "11      5             random_sampling   {}    6  0.371271   \n",
       "12      6             random_sampling   {}    7  0.388970   \n",
       "13      7             random_sampling   {}    8  0.412950   \n",
       "\n",
       "                                            model                         data  \n",
       "0   uncertainty_aldod_sampling-20200621151902.txt  mobilenet_v2_ssd320_voc0712  \n",
       "1   uncertainty_aldod_sampling-20200621151902.txt  mobilenet_v2_ssd320_voc0712  \n",
       "2   uncertainty_aldod_sampling-20200621151902.txt  mobilenet_v2_ssd320_voc0712  \n",
       "3   uncertainty_aldod_sampling-20200621151902.txt  mobilenet_v2_ssd320_voc0712  \n",
       "4   uncertainty_aldod_sampling-20200621151902.txt  mobilenet_v2_ssd320_voc0712  \n",
       "5   uncertainty_aldod_sampling-20200621151902.txt  mobilenet_v2_ssd320_voc0712  \n",
       "6              random_sampling-20200621151902.txt  mobilenet_v2_ssd320_voc0712  \n",
       "7              random_sampling-20200621151902.txt  mobilenet_v2_ssd320_voc0712  \n",
       "8              random_sampling-20200621151902.txt  mobilenet_v2_ssd320_voc0712  \n",
       "9              random_sampling-20200621151902.txt  mobilenet_v2_ssd320_voc0712  \n",
       "10             random_sampling-20200621151902.txt  mobilenet_v2_ssd320_voc0712  \n",
       "11             random_sampling-20200621151902.txt  mobilenet_v2_ssd320_voc0712  \n",
       "12             random_sampling-20200621151902.txt  mobilenet_v2_ssd320_voc0712  \n",
       "13             random_sampling-20200621151902.txt  mobilenet_v2_ssd320_voc0712  "
      ]
     },
     "execution_count": 12,
     "metadata": {},
     "output_type": "execute_result"
    }
   ],
   "source": [
    "df"
   ]
  },
  {
   "cell_type": "code",
   "execution_count": 30,
   "metadata": {},
   "outputs": [
    {
     "data": {
      "text/plain": [
       "Text(0.5, 1.0, 'mobilenet_v2_ssd320_voc0712')"
      ]
     },
     "execution_count": 30,
     "metadata": {},
     "output_type": "execute_result"
    },
    {
     "data": {
      "image/png": "[encoded data removed]",
      "text/plain": [
       "<Figure size 720x360 with 1 Axes>"
      ]
     },
     "metadata": {
      "needs_background": "light"
     },
     "output_type": "display_data"
    }
   ],
   "source": [
    "plt.figure(figsize=(10, 5))\n",
    "sns.lineplot(x='step', y='mAP', hue='model', data=df)\n",
    "plt.title(df.loc[0, 'data'], fontsize=14)"
   ]
  },
  {
   "cell_type": "code",
   "execution_count": null,
   "metadata": {},
   "outputs": [],
   "source": []
  }
 ],
 "metadata": {
  "kernelspec": {
   "display_name": "Python 3",
   "language": "python",
   "name": "python3"
  },
  "language_info": {
   "codemirror_mode": {
    "name": "ipython",
    "version": 3
   },
   "file_extension": ".py",
   "mimetype": "text/x-python",
   "name": "python",
   "nbconvert_exporter": "python",
   "pygments_lexer": "ipython3",
   "version": "3.7.6"
  }
 },
 "nbformat": 4,
 "nbformat_minor": 4
}
