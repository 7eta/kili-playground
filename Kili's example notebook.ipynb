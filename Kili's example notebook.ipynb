{
 "cells": [
  {
   "cell_type": "markdown",
   "metadata": {},
   "source": [
    "## Example of API's use : upload assets"
   ]
  },
  {
   "cell_type": "markdown",
   "metadata": {},
   "source": [
    "Prerequisite : The user should have created a project"
   ]
  },
  {
   "cell_type": "markdown",
   "metadata": {},
   "source": [
    "#### Authenticate via the `signIn` resolver, in order to retrieve the authentication token, then retrieve the token and inject it in the GraphQL client"
   ]
  },
  {
   "cell_type": "code",
   "execution_count": 204,
   "metadata": {},
   "outputs": [
    {
     "data": {
      "text/plain": [
       "'fourth-user'"
      ]
     },
     "execution_count": 204,
     "metadata": {},
     "output_type": "execute_result"
    }
   ],
   "source": [
    "from graphqlclient import GraphQLClient\n",
    "import json\n",
    "\n",
    "#\"https://cloud.kili-technology.com/api/label/graphql\"\n",
    "graphql_client = GraphQLClient('http://localhost:4000/graphql')\n",
    "\n",
    "sign_in = json.loads(graphql_client.execute('''mutation {\n",
    "    signIn(\n",
    "        email: \"fx@kili-technology.com\",\n",
    "        password: \"abc123\"\n",
    "    ) {\n",
    "        id\n",
    "        token\n",
    "        user {\n",
    "            email\n",
    "            id\n",
    "        }\n",
    "    }\n",
    "}'''))\n",
    "token = sign_in['data']['signIn']['token']\n",
    "graphql_client.inject_token(f'Bearer: {token}')\n",
    "userID = sign_in['data']['signIn']['user'][\"id\"]\n",
    "userID"
   ]
  },
  {
   "cell_type": "markdown",
   "metadata": {},
   "source": [
    "#### Prepare the different assets you want to inject"
   ]
  },
  {
   "cell_type": "code",
   "execution_count": 93,
   "metadata": {},
   "outputs": [
    {
     "data": {
      "text/plain": [
       "{'data': {'getProjects': [{'id': 'first-project'},\n",
       "   {'id': 'second-project'},\n",
       "   {'id': 'third-project'}]}}"
      ]
     },
     "execution_count": 93,
     "metadata": {},
     "output_type": "execute_result"
    }
   ],
   "source": [
    "projects = json.loads(graphql_client.execute('''\n",
    "    query {{\n",
    "\tgetProjects(\n",
    "\t\tuserID: \"{}\"\n",
    "\t)\n",
    "\t{{\n",
    "\t\tid\n",
    "\t}}\n",
    "}}\n",
    "'''.format(userID)))\n",
    "last_projectID = projects[\"data\"][\"getProjects\"][-1][\"id\"]\n",
    "projects"
   ]
  },
  {
   "cell_type": "markdown",
   "metadata": {},
   "source": [
    "#### Launch the upload assets mutations"
   ]
  },
  {
   "cell_type": "code",
   "execution_count": 175,
   "metadata": {},
   "outputs": [
    {
     "name": "stdout",
     "output_type": "stream",
     "text": [
      "{\"data\":{\"appendToDataset\":{\"id\":\"third-project\",\"dataset\":[{\"id\":\"cjxltdu7o08zt0798h7dc4xhw\"},{\"id\":\"cjxltdu7s08zv0798q3owl5yx\"},{\"id\":\"cjxltdu7t08zw079851jf61pb\"},{\"id\":\"cjxltdu7u08zx0798smegavtl\"},{\"id\":\"cjxltea0509220798fu8nrm7v\"},{\"id\":\"cjxltea1m092e07980l0bt54o\"},{\"id\":\"cjxltf3je094h0798srjq3tsy\"},{\"id\":\"cjxltf3ko094t0798e90jwi0k\"},{\"id\":\"cjxltfs3g09550798uxf8cgdj\"},{\"id\":\"cjxltfs4t095h079856c6slhj\"},{\"id\":\"cjxltyq7y09600798otfdp1op\"}]}}}\n",
      "{\"data\":{\"appendToDataset\":{\"id\":\"third-project\",\"dataset\":[{\"id\":\"cjxltdu7o08zt0798h7dc4xhw\"},{\"id\":\"cjxltdu7s08zv0798q3owl5yx\"},{\"id\":\"cjxltdu7t08zw079851jf61pb\"},{\"id\":\"cjxltdu7u08zx0798smegavtl\"},{\"id\":\"cjxltea0509220798fu8nrm7v\"},{\"id\":\"cjxltea1m092e07980l0bt54o\"},{\"id\":\"cjxltf3je094h0798srjq3tsy\"},{\"id\":\"cjxltf3ko094t0798e90jwi0k\"},{\"id\":\"cjxltfs3g09550798uxf8cgdj\"},{\"id\":\"cjxltfs4t095h079856c6slhj\"},{\"id\":\"cjxltyq7y09600798otfdp1op\"},{\"id\":\"cjxltyq9w096d0798hk1a59px\"}]}}}\n"
     ]
    }
   ],
   "source": [
    "import os\n",
    "path_to_data_directory = \"../../Open_Dataset/data/inputs_example/\"\n",
    "extension_type = \".mp3\"\n",
    "\n",
    "for file in os.listdir(path_to_data_directory):\n",
    "    if extension_type in file:\n",
    "        content = file\n",
    "        project_ID = last_projectID\n",
    "        file_name = file.split(extension_type)[0]\n",
    "        print(graphql_client.execute('''\n",
    "                                mutation {{\n",
    "                                appendToDataset(\n",
    "                                    projectID:\"{}\"\n",
    "                                    content: \"{}\"\n",
    "                                    filename: \"{}\"\n",
    "                                    isInstructions: false\n",
    "                                    isHoneypot: true\n",
    "                                    externalID: \"{}\"\n",
    "                                    instructions: \"\"\n",
    "                                    consensusMark: 0\n",
    "                                    honeypotMark: 0\n",
    "                                    status:TODO\n",
    "                                )\n",
    "                                {{\n",
    "                                    id\n",
    "                                    dataset{{id}}\n",
    "                                }}\n",
    "                            }}\n",
    "                            '''.format(project_ID, content, file_name, file_name)))\n"
   ]
  },
  {
   "cell_type": "markdown",
   "metadata": {},
   "source": [
    "#### Launch the download of assets"
   ]
  },
  {
   "cell_type": "code",
   "execution_count": 192,
   "metadata": {},
   "outputs": [
    {
     "data": {
      "text/plain": [
       "'{\"data\":{\"getAssets\":[{\"id\":\"cjxlufi0409ca07985oop0w4x\"},{\"id\":\"cjxlufi0709cc0798ykb74r5t\"},{\"id\":\"cjxlufi0809cd0798a72dxurb\"},{\"id\":\"cjxlufi0809ce0798qe49keyk\"}]}}'"
      ]
     },
     "execution_count": 192,
     "metadata": {},
     "output_type": "execute_result"
    }
   ],
   "source": [
    "graphql_client.execute('''query {getAssets(projectID: \"third-project\", skip: 0, first: 20){id}}''')"
   ]
  },
  {
   "cell_type": "code",
   "execution_count": 193,
   "metadata": {},
   "outputs": [
    {
     "data": {
      "text/plain": [
       "'{\"data\":{\"getAsset\":{\"id\":\"cjxlufi0809ce0798qe49keyk\",\"content\":\"https://cdn.pixabay.com/photo/2018/03/10/23/27/fruit-3215625_1280.jpg\"}}}'"
      ]
     },
     "execution_count": 193,
     "metadata": {},
     "output_type": "execute_result"
    }
   ],
   "source": [
    "graphql_client.execute('''\n",
    "    query {getAsset(assetID: \"cjxlufi0809ce0798qe49keyk\" )\n",
    "    {\n",
    "    id\n",
    "    content\n",
    "    }\n",
    "}''')"
   ]
  },
  {
   "cell_type": "markdown",
   "metadata": {},
   "source": [
    "#### Upload labels of assets"
   ]
  },
  {
   "cell_type": "code",
   "execution_count": 205,
   "metadata": {},
   "outputs": [
    {
     "data": {
      "text/plain": [
       "'{\"data\":{\"appendToLabels\":{\"id\":\"third-project\"}}}'"
      ]
     },
     "execution_count": 205,
     "metadata": {},
     "output_type": "execute_result"
    }
   ],
   "source": [
    "graphql_client.execute('''\n",
    "    mutation {appendToLabels(\n",
    "    authorID: \"fourth-user\"\n",
    "    isReview: false\n",
    "    jsonResponse: \"\"\"{\\\"annotations\\\":[{\\\"id\\\":\\\"5debfe82-3ba9-4727-8ddf-bc256b6ab050\\\",\\\"score\\\":null,\\\"description\\\":\\\"GRAPE\\\",\\\"isCut\\\":false,\\\"boundingPoly\\\":[{\\\"vertices\\\":[{\\\"x\\\":10.412573673870334,\\\"y\\\":16.8141592920354},{\\\"x\\\":28.68369351669941,\\\"y\\\":16.8141592920354},{\\\"x\\\":28.68369351669941,\\\"y\\\":63.421828908554566},{\\\"x\\\":10.412573673870334,\\\"y\\\":63.421828908554566}]}]}]}\"\"\"\n",
    "    labelType: IMAGE\n",
    "    millisecondsToLabel: 0\n",
    "    labelAssetID: \"cjxlufi0809ce0798qe49keyk\"\n",
    "  )\n",
    "  {\n",
    "  id\n",
    "  \n",
    "  }\n",
    "}''')"
   ]
  }
 ],
 "metadata": {
  "kernelspec": {
   "display_name": "Python 3",
   "language": "python",
   "name": "python3"
  },
  "language_info": {
   "codemirror_mode": {
    "name": "ipython",
    "version": 3
   },
   "file_extension": ".py",
   "mimetype": "text/x-python",
   "name": "python",
   "nbconvert_exporter": "python",
   "pygments_lexer": "ipython3",
   "version": "3.7.3"
  }
 },
 "nbformat": 4,
 "nbformat_minor": 2
}
