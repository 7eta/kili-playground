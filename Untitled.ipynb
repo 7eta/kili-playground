{
 "cells": [
  {
   "cell_type": "code",
   "execution_count": 1,
   "metadata": {},
   "outputs": [
    {
     "name": "stderr",
     "output_type": "stream",
     "text": [
      "/Users/philippedesaintchamas/kili-playground/kili/authentication.py:54: UserWarning: Kili Playground version should match with Kili API version.\n",
      "Please install version: \"pip install kili==2.2.0\"\n",
      "  warnings.warn(message, UserWarning)\n"
     ]
    }
   ],
   "source": [
    "# Authentication\n",
    "import os\n",
    "\n",
    "# !pip install kili # uncomment if you don't have kili installed already\n",
    "from kili.authentication import KiliAuth\n",
    "from kili.playground import Playground\n",
    "\n",
    "email = os.getenv('KILI_EMAIL')\n",
    "password = os.getenv('KILI_PASSWORD')\n",
    "api_endpoint = 'https://cloud.kili-technology.com/api/label/graphql'\n",
    "api_key = '63847e55-25fd-4b3c-9446-d4ce050bb870'\n",
    "\n",
    "kauth = KiliAuth(api_key=api_key)\n",
    "playground = Playground(kauth)"
   ]
  },
  {
   "cell_type": "code",
   "execution_count": 6,
   "metadata": {},
   "outputs": [
    {
     "ename": "AttributeError",
     "evalue": "'KiliAuth' object has no attribute 'user_id'",
     "output_type": "error",
     "traceback": [
      "\u001b[0;31m-------------------------------------------------------------------\u001b[0m",
      "\u001b[0;31mAttributeError\u001b[0m                    Traceback (most recent call last)",
      "\u001b[0;32m<ipython-input-6-d2c838f22268>\u001b[0m in \u001b[0;36m<module>\u001b[0;34m\u001b[0m\n\u001b[0;32m----> 1\u001b[0;31m \u001b[0mkauth\u001b[0m\u001b[0;34m.\u001b[0m\u001b[0muser_id\u001b[0m\u001b[0;34m\u001b[0m\u001b[0;34m\u001b[0m\u001b[0m\n\u001b[0m",
      "\u001b[0;31mAttributeError\u001b[0m: 'KiliAuth' object has no attribute 'user_id'"
     ]
    }
   ],
   "source": [
    "kauth.user_id"
   ]
  },
  {
   "cell_type": "code",
   "execution_count": 14,
   "metadata": {},
   "outputs": [
    {
     "name": "stdout",
     "output_type": "stream",
     "text": [
      "Collecting kili\n",
      "  Downloading kili-2.2.0.tar.gz (23 kB)\n",
      "Requirement already satisfied: pandas in /usr/local/Caskroom/miniconda/base/envs/kilienv/lib/python3.7/site-packages (from kili) (0.25.3)\n",
      "Requirement already satisfied: requests in /usr/local/Caskroom/miniconda/base/envs/kilienv/lib/python3.7/site-packages (from kili) (2.23.0)\n",
      "Requirement already satisfied: six in /usr/local/Caskroom/miniconda/base/envs/kilienv/lib/python3.7/site-packages (from kili) (1.15.0)\n",
      "Requirement already satisfied: tqdm in /usr/local/Caskroom/miniconda/base/envs/kilienv/lib/python3.7/site-packages (from kili) (4.46.1)\n",
      "Requirement already satisfied: websocket-client in /usr/local/Caskroom/miniconda/base/envs/kilienv/lib/python3.7/site-packages (from kili) (0.57.0)\n",
      "Requirement already satisfied: numpy>=1.13.3 in /usr/local/Caskroom/miniconda/base/envs/kilienv/lib/python3.7/site-packages (from pandas->kili) (1.18.4)\n",
      "Requirement already satisfied: python-dateutil>=2.6.1 in /usr/local/Caskroom/miniconda/base/envs/kilienv/lib/python3.7/site-packages (from pandas->kili) (2.8.1)\n",
      "Requirement already satisfied: pytz>=2017.2 in /usr/local/Caskroom/miniconda/base/envs/kilienv/lib/python3.7/site-packages (from pandas->kili) (2020.1)\n",
      "Requirement already satisfied: idna<3,>=2.5 in /usr/local/Caskroom/miniconda/base/envs/kilienv/lib/python3.7/site-packages (from requests->kili) (2.9)\n",
      "Requirement already satisfied: chardet<4,>=3.0.2 in /usr/local/Caskroom/miniconda/base/envs/kilienv/lib/python3.7/site-packages (from requests->kili) (3.0.4)\n",
      "Requirement already satisfied: certifi>=2017.4.17 in /usr/local/Caskroom/miniconda/base/envs/kilienv/lib/python3.7/site-packages (from requests->kili) (2020.4.5.1)\n",
      "Requirement already satisfied: urllib3!=1.25.0,!=1.25.1,<1.26,>=1.21.1 in /usr/local/Caskroom/miniconda/base/envs/kilienv/lib/python3.7/site-packages (from requests->kili) (1.25.9)\n",
      "Building wheels for collected packages: kili\n",
      "  Building wheel for kili (setup.py) ... \u001b[?25ldone\n",
      "\u001b[?25h  Created wheel for kili: filename=kili-2.2.0-py3-none-any.whl size=36231 sha256=b6e39b93e688252e00cc398dfa00e3c6d3711c13f04e527c5a44fc37590aed49\n",
      "  Stored in directory: /Users/philippedesaintchamas/Library/Caches/pip/wheels/74/cd/2b/d9b647831c46bcf340675ba81c385f22861936732add3b8227\n",
      "Successfully built kili\n",
      "Installing collected packages: kili\n",
      "Successfully installed kili-2.2.0\n"
     ]
    }
   ],
   "source": [
    "!pip install kili"
   ]
  },
  {
   "cell_type": "code",
   "execution_count": 17,
   "metadata": {},
   "outputs": [
    {
     "name": "stderr",
     "output_type": "stream",
     "text": [
      "/usr/local/Caskroom/miniconda/base/envs/kilienv/lib/python3.7/site-packages/ipykernel_launcher.py:1: DeprecationWarning: \n",
      "        **New feature has been added : Query only the fields you want\n",
      "        using the field argument, that accept a list of string organized like below.**\n",
      "        The former default query with all fields is deprecated since 13/05/2020\n",
      "        After 13/06/2020, the default queried fields will be :\n",
      "        ['id', 'consensusTotCoverage', 'inputType', 'interfaceCategory', 'jsonInterface', \n",
      "        'maxWorkerCount', 'minAgreement', 'minConsensusSize', 'roles.id', 'roles.role', \n",
      "        'roles.user.email', 'roles.user.id', 'roles.user.name', 'title']\n",
      "        To fetch more fields, for example the consensus fields, just add those :\n",
      "        fields = ['id', 'consensusMark', 'consensusTotCoverage', 'createdAt', 'description', \n",
      "        'honeypotMark', 'inputType', 'interfaceCategory', 'jsonInterface', 'maxWorkerCount', \n",
      "        'minAgreement', 'minConsensusSize', 'numberOfAssets', 'numberOfAssetsWithSkippedLabels', \n",
      "        'numberOfLatestLabels', 'numberOfRemainingAssets', 'numberOfReviewedAssets', 'numberOfRoles',\n",
      "        'roles.id', 'roles.activated', 'roles.consensusMark', 'roles.honeypotMark', 'roles.lastLabelingAt', \n",
      "        'roles.numberOfAnnotations', 'roles.numberOfLabels', 'roles.role', 'roles.starred', \n",
      "        'roles.totalDuration', 'roles.user.email', 'titleAndDescription', 'useHoneyPot']\n",
      "        \n",
      "  \"\"\"Entry point for launching an IPython kernel.\n"
     ]
    },
    {
     "data": {
      "text/plain": [
       "[{'id': 'ckcvt752oxw4e07048s98gmop',\n",
       "  'title': 'Counterfactual data-augmentation - Negative to Positive'},\n",
       " {'id': 'ckcvt74f9852s0794d93oka4k',\n",
       "  'title': 'Counterfactual data-augmentation - Positive to Negative'},\n",
       " {'id': 'ckcp8eb980s2z077249g18h3f', 'title': 'Movie review'},\n",
       " {'id': 'ck66kpnf1gixe07806vc23459', 'title': 'LinkedIn profiles'},\n",
       " {'id': 'ckcvpkgtnws3j07042mlet9ci',\n",
       "  'title': 'Counterfactual data-augmentation - Positive to Negative'},\n",
       " {'id': 'ckcuma1syjvye0772ptqdq86c', 'title': 'Movie review'},\n",
       " {'id': 'ckcult03oi9fb0794ufakjo5r',\n",
       "  'title': 'Counterfactual data-augmentation - Negative to Positive'},\n",
       " {'id': 'ckculszfsju4507727mmc8kro',\n",
       "  'title': 'Counterfactual data-augmentation - Positive to Negative'},\n",
       " {'id': 'ckcukkkjohwlt0794pmnck9o3', 'title': 'Movie review'},\n",
       " {'id': 'ckcpv8wgmgv4007726l2n8bg8',\n",
       "  'title': 'Counterfactual data-augmentation - Negative to Positive'},\n",
       " {'id': 'ckcpv8voueszz0794ykoauzz5',\n",
       "  'title': 'Counterfactual data-augmentation - Positive to Negative'},\n",
       " {'id': 'ckbmcmmqnoytb088393dwsflb', 'title': 'Car brand recognition'},\n",
       " {'id': 'ckasjup6t02ui0718cw0b93rz',\n",
       "  'title': 'Counterfactual data-augmentation NLI'},\n",
       " {'id': 'ckasjig2cdu690754rjrrgpi2',\n",
       "  'title': 'Counterfactual data-augmentation - Negative to Positive'},\n",
       " {'id': 'ckasjiayh7xhk0760vi44jjh5',\n",
       "  'title': 'Counterfactual data-augmentation - Positive to Negative'},\n",
       " {'id': 'ckae3y6od4gr70704t1rz2ppd', 'title': 'YOLOv3 with Kili Technology'},\n",
       " {'id': 'ckadp6pbh38x80725girvn8lz',\n",
       "  'title': 'Medical Imaging with Kili Technology'},\n",
       " {'id': 'ckadoyzs5030z0890g273c3wc', 'title': 'Grapes classification'},\n",
       " {'id': 'ck989l9te0efm0b92g3abmuds', 'title': \"Détourage d'avions\"}]"
      ]
     },
     "execution_count": 17,
     "metadata": {},
     "output_type": "execute_result"
    }
   ],
   "source": [
    "playground.projects(fields=['id', 'title'])"
   ]
  },
  {
   "cell_type": "code",
   "execution_count": null,
   "metadata": {},
   "outputs": [],
   "source": []
  }
 ],
 "metadata": {
  "kernelspec": {
   "display_name": "Python 3",
   "language": "python",
   "name": "python3"
  },
  "language_info": {
   "codemirror_mode": {
    "name": "ipython",
    "version": 3
   },
   "file_extension": ".py",
   "mimetype": "text/x-python",
   "name": "python",
   "nbconvert_exporter": "python",
   "pygments_lexer": "ipython3",
   "version": "3.7.7"
  }
 },
 "nbformat": 4,
 "nbformat_minor": 4
}
